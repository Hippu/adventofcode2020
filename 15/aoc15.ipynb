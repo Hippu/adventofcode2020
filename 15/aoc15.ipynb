{
 "cells": [
  {
   "cell_type": "markdown",
   "metadata": {},
   "source": [
    "```\n",
    "--- Day 15: Rambunctious Recitation ---\n",
    "You catch the airport shuttle and try to book a new flight to your vacation island. Due to the storm, all direct flights have been cancelled, but a route is available to get around the storm. You take it.\n",
    "\n",
    "While you wait for your flight, you decide to check in with the Elves back at the North Pole. They're playing a memory game and are ever so excited to explain the rules!\n",
    "\n",
    "In this game, the players take turns saying numbers. They begin by taking turns reading from a list of starting numbers (your puzzle input). Then, each turn consists of considering the most recently spoken number:\n",
    "\n",
    "If that was the first time the number has been spoken, the current player says 0.\n",
    "Otherwise, the number had been spoken before; the current player announces how many turns apart the number is from when it was previously spoken.\n",
    "So, after the starting numbers, each turn results in that player speaking aloud either 0 (if the last number is new) or an age (if the last number is a repeat).\n",
    "\n",
    "For example, suppose the starting numbers are 0,3,6:\n",
    "\n",
    "Turn 1: The 1st number spoken is a starting number, 0.\n",
    "Turn 2: The 2nd number spoken is a starting number, 3.\n",
    "Turn 3: The 3rd number spoken is a starting number, 6.\n",
    "Turn 4: Now, consider the last number spoken, 6. Since that was the first time the number had been spoken, the 4th number spoken is 0.\n",
    "Turn 5: Next, again consider the last number spoken, 0. Since it had been spoken before, the next number to speak is the difference between the turn number when it was last spoken (the previous turn, 4) and the turn number of the time it was most recently spoken before then (turn 1). Thus, the 5th number spoken is 4 - 1, 3.\n",
    "Turn 6: The last number spoken, 3 had also been spoken before, most recently on turns 5 and 2. So, the 6th number spoken is 5 - 2, 3.\n",
    "Turn 7: Since 3 was just spoken twice in a row, and the last two turns are 1 turn apart, the 7th number spoken is 1.\n",
    "Turn 8: Since 1 is new, the 8th number spoken is 0.\n",
    "Turn 9: 0 was last spoken on turns 8 and 4, so the 9th number spoken is the difference between them, 4.\n",
    "Turn 10: 4 is new, so the 10th number spoken is 0.\n",
    "(The game ends when the Elves get sick of playing or dinner is ready, whichever comes first.)\n",
    "\n",
    "Their question for you is: what will be the 2020th number spoken? In the example above, the 2020th number spoken will be 436.\n",
    "\n",
    "Here are a few more examples:\n",
    "\n",
    "Given the starting numbers 1,3,2, the 2020th number spoken is 1.\n",
    "Given the starting numbers 2,1,3, the 2020th number spoken is 10.\n",
    "Given the starting numbers 1,2,3, the 2020th number spoken is 27.\n",
    "Given the starting numbers 2,3,1, the 2020th number spoken is 78.\n",
    "Given the starting numbers 3,2,1, the 2020th number spoken is 438.\n",
    "Given the starting numbers 3,1,2, the 2020th number spoken is 1836.\n",
    "Given your starting numbers, what will be the 2020th number spoken?\n",
    "\n",
    "Your puzzle input is 11,0,1,10,5,19.\n",
    "```"
   ]
  },
  {
   "cell_type": "code",
   "execution_count": 1,
   "metadata": {},
   "source": [
    "#!fsharp\n",
    "type State = { turn : int ; number : int ; numberLog : Map<int, int list> }\n",
    "\n",
    "let tick (state: State) : State = \n",
    "    match Map.tryFind state.number state.numberLog with\n",
    "    | Some (a :: _) ->\n",
    "        let nextNumber = state.turn - a\n",
    "        { turn = state.turn + 1 ; number = nextNumber ; numberLog = Map.add state.number (state.turn :: state.numberLog.[ state.number ]) state.numberLog }\n",
    "    | Some [] | None ->\n",
    "        { turn = state.turn + 1 ; number = 0 ; numberLog = Map.add state.number [state.turn] state.numberLog }\n",
    "\n",
    "let rec tickUntil (condition : State -> bool) state =\n",
    "    if condition state then\n",
    "        state\n",
    "    else\n",
    "        tickUntil condition (tick state)\n",
    "\n",
    "let stateFromStartingNumbers (numbers : int list ) =\n",
    "    let indexed = List.mapi (fun ix x -> (x, [ix])) numbers\n",
    "    { turn = List.length indexed ; number = 0;  numberLog = Map.ofList indexed } // Small hack here, we can safely set the nextNumber to 0 since we know the input.\n",
    "\n",
    "tickUntil (fun s -> s.turn = 2019) (stateFromStartingNumbers [11 ; 0 ; 1 ; 10 ; 5 ; 19])\n",
    "\n",
    ""
   ],
   "outputs": [
    {
     "output_type": "execute_result",
     "data": {
      "text/html": "<table><thead><tr><th>turn</th><th>number</th><th>numberLog</th></tr></thead><tbody><tr><td><div class=\"dni-plaintext\">2019</div></td><td><div class=\"dni-plaintext\">870</div></td><td><div class=\"dni-plaintext\">[ [0, [2013; 2006; 2001; ... ]], [1, [1997; 1934; 1891; ... ]], [2, [1914; 1667; 1626; ... ]], [3, [1853; 1699; 1675; ... ]], [4, [1977; 1968; 1944; ... ]], [5, [2007; 1996; 1995; ... ]], [6, [1950; 1906; 1895; ... ]], [7, [2014; 2002; 1918; ... ]], [8, [1985; 1940; 1819; ... ]], [9, [1978; 1964; 1880; ... ]], [10, [1901; 1857; 1839; ... ]], [11, [2008; 1957; 1912; ... ]], [12, [2015; 1936; 1825; ... ]], [13, [1797; 1398; 1283; ... ]], [14, [1979; 1928; 1775; ... ]], [15, [1885; 1669; 1574; ... ]], [16, [1732; 1728; 1338; ... ]], [17, [1991; 1757; 937; ... ]], [18, [1974; 1858; 1851; ... ]], [19, [993; 840; 621; ... ]] ... (358 more) ]</div></td></tr></tbody></table>"
     },
     "execution_count": 1,
     "metadata": {}
    }
   ]
  },
  {
   "cell_type": "markdown",
   "metadata": {},
   "source": [
    "```\n",
    "--- Part Two ---\n",
    "Impressed, the Elves issue you a challenge: determine the 30000000th number spoken. For example, given the same starting numbers as above:\n",
    "\n",
    "Given 0,3,6, the 30000000th number spoken is 175594.\n",
    "Given 1,3,2, the 30000000th number spoken is 2578.\n",
    "Given 2,1,3, the 30000000th number spoken is 3544142.\n",
    "Given 1,2,3, the 30000000th number spoken is 261214.\n",
    "Given 2,3,1, the 30000000th number spoken is 6895259.\n",
    "Given 3,2,1, the 30000000th number spoken is 18.\n",
    "Given 3,1,2, the 30000000th number spoken is 362.\n",
    "Given your starting numbers, what will be the 30000000th number spoken?\n",
    "\n",
    "```"
   ]
  },
  {
   "cell_type": "code",
   "execution_count": 1,
   "metadata": {},
   "source": [
    "#!fsharp\n",
    "// It seems like our unoptimized method can still solve the question in ~50 seconds :P\n",
    "\n",
    "tickUntil (fun s -> s.turn = 29999999) (stateFromStartingNumbers [11 ; 0 ; 1 ; 10 ; 5 ; 19])"
   ],
   "outputs": [
    {
     "output_type": "execute_result",
     "data": {
      "text/html": "<table><thead><tr><th>turn</th><th>number</th><th>numberLog</th></tr></thead><tbody><tr><td><div class=\"dni-plaintext\">29999999</div></td><td><div class=\"dni-plaintext\">9136</div></td><td><div class=\"dni-plaintext\">[ [0, [29999993; 29999987; 29999981; ... ]], [1, [29999996; 29999940; 29999904; ... ]], [2, [29999975; 29999851; 29999772; ... ]], [3, [29998462; 29996430; 29995157; ... ]], [4, [29992113; 29979513; 29916671; ... ]], [5, [29994859; 29994858; 29994853; ... ]], [6, [29999995; 29999994; 29999988; ... ]], [7, [29999939; 29999938; 29999931; ... ]], [8, [29999974; 29999972; 29999955; ... ]], [9, [29999964; 29999947; 29999903; ... ]], [10, [29999982; 29999906; 29999816; ... ]], [11, [29999718; 29999700; 29999500; ... ]], [12, [29999613; 29999411; 29999068; ... ]], [13, [29999861; 29999444; 29999181; ... ]], [14, [29999916; 29999151; 29998661; ... ]], [15, [29999540; 29999531; 29999483; ... ]], [16, [29999849; 29999840; 29999603; ... ]], [17, [29999973; 29999965; 29999894; ... ]], [18, [29999807; 29999719; 29999542; ... ]], [19, [29999817; 29999711; 29999452; ... ]] ... (3611273 more) ]</div></td></tr></tbody></table>"
     },
     "execution_count": 1,
     "metadata": {}
    }
   ]
  }
 ],
 "metadata": {
  "kernelspec": {
   "display_name": ".NET (C#)",
   "language": "C#",
   "name": ".net-csharp"
  },
  "language_info": {
   "file_extension": ".cs",
   "mimetype": "text/x-csharp",
   "name": "C#",
   "pygments_lexer": "csharp",
   "version": "8.0"
  }
 },
 "nbformat": 4,
 "nbformat_minor": 4
}