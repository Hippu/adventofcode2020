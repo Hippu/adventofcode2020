{
 "cells": [
  {
   "cell_type": "markdown",
   "metadata": {},
   "source": [
    "After saving Christmas five years in a row, you've decided to take a vacation at a nice resort on a tropical island. Surely, Christmas will go on without you.\n",
    "\n",
    "The tropical island has its own currency and is entirely cash-only. The gold coins used there have a little picture of a starfish; the locals just call them stars. None of the currency exchanges seem to have heard of them, but somehow, you'll need to find fifty of these coins by the time you arrive so you can pay the deposit on your room.\n",
    "\n",
    "To save your vacation, you need to get all fifty stars by December 25th.\n",
    "\n",
    "Collect stars by solving puzzles. Two puzzles will be made available on each day in the Advent calendar; the second puzzle is unlocked when you complete the first. Each puzzle grants one star. Good luck!\n",
    "\n",
    "Before you leave, the Elves in accounting just need you to fix your expense report (your puzzle input); apparently, something isn't quite adding up.\n",
    "\n",
    "Specifically, they need you to find the two entries that sum to 2020 and then multiply those two numbers together.\n",
    "\n",
    "For example, suppose your expense report contained the following:\n",
    "\n",
    "1721\n",
    "979\n",
    "366\n",
    "299\n",
    "675\n",
    "1456\n",
    "In this list, the two entries that sum to 2020 are 1721 and 299. Multiplying them together produces 1721 * 299 = 514579, so the correct answer is 514579.\n",
    "\n",
    "Of course, your expense report is much larger. Find the two entries that sum to 2020; what do you get if you multiply them together?"
   ]
  },
  {
   "cell_type": "code",
   "execution_count": 1,
   "metadata": {},
   "source": [
    "#!fsharp\n",
    "let input = System.IO.File.ReadAllLines \"./input.txt\" |> Array.map Int32.Parse\n",
    "let inputInverted = Array.map (fun x -> 2020 - x) input |> Set.ofArray\n",
    "let matching = Seq.filter (fun x -> Set.contains x inputInverted) input\n",
    "\n",
    "Seq.reduce (*) matching\n",
    ""
   ],
   "outputs": [
    {
     "output_type": "execute_result",
     "data": {
      "text/html": "<div class=\"dni-plaintext\">719796</div>"
     },
     "execution_count": 1,
     "metadata": {}
    }
   ]
  },
  {
   "cell_type": "markdown",
   "metadata": {},
   "source": [
    "--- Part Two ---\n",
    "The Elves in accounting are thankful for your help; one of them even offers you a starfish coin they had left over from a past vacation. They offer you a second one if you can find three numbers in your expense report that meet the same criteria.\n",
    "\n",
    "Using the above example again, the three entries that sum to 2020 are 979, 366, and 675. Multiplying them together produces the answer, 241861950.\n",
    "\n",
    "In your expense report, what is the product of the three entries that sum to 2020?"
   ]
  },
  {
   "cell_type": "code",
   "execution_count": 1,
   "metadata": {},
   "source": [
    "#!fsharp\n",
    "let numbersAndRemaining = Array.map (fun x -> (x, Array.filter (fun y -> x + y < 2020 && x <> y) input )) input\n",
    "numbersAndRemaining \n",
    "    |> Array.map (fun (x , possible) -> (x, Array.filter (fun z -> x + z < (2020 - x)) possible )) \n",
    "    |> Array.filter (fun (_, possible ) -> Array.length possible > 1)\n",
    "    |> Array.map (fun (x, possible) -> \n",
    "            (x, (possible |> Array.map (fun y -> (y, Array.filter (fun z -> x + y + z = 2020) possible) )\n",
    "        )))"
   ],
   "outputs": [
    {
     "output_type": "execute_result",
     "data": {
      "text/html": "<table><thead><tr><th><i>index</i></th><th>Item1</th><th>Item2</th></tr></thead><tbody><tr><td>0</td><td><div class=\"dni-plaintext\">462</div></td><td><div class=\"dni-plaintext\">[ ( 813, [  ] ), ( 277, [  ] ), ( 780, [  ] ), ( 804, [  ] ), ( 384, [  ] ), ( 372, [  ] ), ( 96, [  ] ), ( 489, [  ] ) ]</div></td></tr><tr><td>1</td><td><div class=\"dni-plaintext\">813</div></td><td><div class=\"dni-plaintext\">[ ( 277, [  ] ), ( 384, [  ] ), ( 372, [  ] ), ( 96, [  ] ) ]</div></td></tr><tr><td>2</td><td><div class=\"dni-plaintext\">277</div></td><td><div class=\"dni-plaintext\">[ ( 1238, [  ] ), ( 1424, [  ] ), ( 1428, [  ] ), ( 462, [  ] ), ( 1312, [  ] ), ( 1465, [  ] ), ( 1405, [  ] ), ( 1459, [  ] ), ( 1288, [  ] ), ( 1241, [  ] ), ( 1294, [  ] ), ( 1388, [  ] ), ( 813, [  ] ), ( 1274, [  ] ), ( 1404, [  ] ), ( 1366, [  ] ), ( 1321, [  ] ), ( 1353, [  ] ), ( 1365, [  ] ), ( 1235, [  ] ) ... (39 more) ]</div></td></tr><tr><td>3</td><td><div class=\"dni-plaintext\">780</div></td><td><div class=\"dni-plaintext\">[ ( 277, [  ] ), ( 384, [  ] ), ( 372, [  ] ), ( 96, [  ] ) ]</div></td></tr><tr><td>4</td><td><div class=\"dni-plaintext\">804</div></td><td><div class=\"dni-plaintext\">[ ( 277, [  ] ), ( 384, [  ] ), ( 372, [  ] ), ( 96, [  ] ) ]</div></td></tr><tr><td>5</td><td><div class=\"dni-plaintext\">384</div></td><td><div class=\"dni-plaintext\">[ ( 1238, [  ] ), ( 462, [  ] ), ( 1241, [  ] ), ( 813, [  ] ), ( 1235, [  ] ), ( 1223, [  ] ), ( 277, [  ] ), ( 780, [  ] ), ( 1203, [  ] ), ( 1237, [  ] ), ( 804, [  ] ), ( 372, [  ] ), ( 96, [  ] ), ( 489, [  ] ) ]</div></td></tr><tr><td>6</td><td><div class=\"dni-plaintext\">372</div></td><td><div class=\"dni-plaintext\">[ ( 1238, [  ] ), ( 462, [  ] ), ( 1241, [  ] ), ( 813, [  ] ), ( 1274, [  ] ), ( 1235, [  ] ), ( 1223, [  ] ), ( 1261, [  ] ), ( 277, [  ] ), ( 780, [  ] ), ( 1270, [  ] ), ( 1203, [  ] ), ( 1273, [  ] ), ( 1237, [  ] ), ( 804, [  ] ), ( 1253, [  ] ), ( 1256, [  ] ), ( 384, [  ] ), ( 96, [  ] ), ( 489, [  ] ) ]</div></td></tr><tr><td>7</td><td><div class=\"dni-plaintext\">96</div></td><td><div class=\"dni-plaintext\">[ ( 1742, [  ] ), ( 1763, [  ] ), ( 1238, [  ] ), ( 1424, [  ] ), ( 1736, [  ] ), ( 1580, [  ] ), ( 1779, [  ] ), ( 1769, [  ] ), ( 1428, [  ] ), ( 1673, [  ] ), ( 1491, [  ] ), ( 1746, [  ] ), ( 1696, [  ] ), ( 1616, [  ] ), ( 1600, [  ] ), ( 1724, [  ] ), ( 1804, [  ] ), ( 1794, [  ] ), ( 462, [  ] ), ( 1706, [  ] ) ... (120 more) ]</div></td></tr><tr><td>8</td><td><div class=\"dni-plaintext\">489</div></td><td><div class=\"dni-plaintext\">[ ( 462, [  ] ), ( 813, [  ] ), ( 277, [  ] ), ( 780, [  ] ), ( 804, [  ] ), ( 384, [  ] ), ( 372, [  ] ), ( 96, [  ] ) ]</div></td></tr></tbody></table>"
     },
     "execution_count": 1,
     "metadata": {}
    }
   ]
  }
 ],
 "metadata": {
  "kernelspec": {
   "display_name": ".NET (C#)",
   "language": "C#",
   "name": ".net-csharp"
  },
  "language_info": {
   "file_extension": ".cs",
   "mimetype": "text/x-csharp",
   "name": "C#",
   "pygments_lexer": "csharp",
   "version": "8.0"
  }
 },
 "nbformat": 4,
 "nbformat_minor": 4
}