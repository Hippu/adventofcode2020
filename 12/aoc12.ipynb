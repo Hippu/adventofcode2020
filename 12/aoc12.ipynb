{
 "cells": [
  {
   "cell_type": "markdown",
   "metadata": {},
   "source": [
    "```\n",
    "--- Day 12: Rain Risk ---\n",
    "Your ferry made decent progress toward the island, but the storm came in faster than anyone expected. The ferry needs to take evasive actions!\n",
    "\n",
    "Unfortunately, the ship's navigation computer seems to be malfunctioning; rather than giving a route directly to safety, it produced extremely circuitous instructions. When the captain uses the PA system to ask if anyone can help, you quickly volunteer.\n",
    "\n",
    "The navigation instructions (your puzzle input) consists of a sequence of single-character actions paired with integer input values. After staring at them for a few minutes, you work out what they probably mean:\n",
    "\n",
    "Action N means to move north by the given value.\n",
    "Action S means to move south by the given value.\n",
    "Action E means to move east by the given value.\n",
    "Action W means to move west by the given value.\n",
    "Action L means to turn left the given number of degrees.\n",
    "Action R means to turn right the given number of degrees.\n",
    "Action F means to move forward by the given value in the direction the ship is currently facing.\n",
    "The ship starts by facing east. Only the L and R actions change the direction the ship is facing. (That is, if the ship is facing east and the next instruction is N10, the ship would move north 10 units, but would still move east if the following action were F.)\n",
    "\n",
    "For example:\n",
    "\n",
    "F10\n",
    "N3\n",
    "F7\n",
    "R90\n",
    "F11\n",
    "These instructions would be handled as follows:\n",
    "\n",
    "F10 would move the ship 10 units east (because the ship starts by facing east) to east 10, north 0.\n",
    "N3 would move the ship 3 units north to east 10, north 3.\n",
    "F7 would move the ship another 7 units east (because the ship is still facing east) to east 17, north 3.\n",
    "R90 would cause the ship to turn right by 90 degrees and face south; it remains at east 17, north 3.\n",
    "F11 would move the ship 11 units south to east 17, south 8.\n",
    "At the end of these instructions, the ship's Manhattan distance (sum of the absolute values of its east/west position and its north/south position) from its starting position is 17 + 8 = 25.\n",
    "\n",
    "Figure out where the navigation instructions lead. What is the Manhattan distance between that location and the ship's starting position?\n",
    "```"
   ]
  },
  {
   "cell_type": "code",
   "execution_count": 1,
   "metadata": {},
   "source": [
    "#!fsharp\n",
    "#r \"nuget: Fparsec\"\n",
    "open FParsec\n",
    "\n",
    "let input = System.IO.File.ReadAllLines \"./input.txt\"\n",
    "\n",
    "type Direction =\n",
    "    | North\n",
    "    | East\n",
    "    | South\n",
    "    | West\n",
    "\n",
    "type ShipState = { x : int; y : int; facing: int}\n",
    "\n",
    "type Instruction =\n",
    "    | MoveTowards of Direction * int\n",
    "    | MoveForward of int\n",
    "    | Turn of int\n",
    "\n",
    "let instructionBuilder (action: char) (number: int) =\n",
    "    match action with\n",
    "    | 'N' -> MoveTowards (North, number)\n",
    "    | 'S' -> MoveTowards (South, number)\n",
    "    | 'E' -> MoveTowards (East, number)\n",
    "    | 'W' -> MoveTowards (West, number)\n",
    "    | 'L' -> Turn (-number)\n",
    "    | 'R' -> Turn number\n",
    "    | 'F' -> MoveForward number\n",
    "    | _ -> failwith \"Unknown instruction\"\n",
    "\n",
    "let parseInput : Parser<Instruction, unit> =\n",
    "    pipe2 asciiUpper pint32 instructionBuilder\n",
    "\n",
    "let instructionList = \n",
    "    Array.map (run parseInput) input \n",
    "    |> List.ofArray\n",
    "    |> List.choose (function\n",
    "        | Success (a, _, _) -> Some a\n",
    "        | Failure _ -> None)\n",
    "\n",
    "let rec direction (heading: int) =\n",
    "    match (heading % 360) with\n",
    "    | x when x < 0 -> direction (x + 360)\n",
    "    | 0 -> North\n",
    "    | 90 -> East\n",
    "    | 180 -> South\n",
    "    | 270 -> West\n",
    "    | _ -> failwith $\"Unknown direction of {heading}\"\n",
    "\n",
    "let rec execute (instruction: Instruction) (state: ShipState) : ShipState =\n",
    "    match instruction with\n",
    "    | MoveTowards (North, a) -> { state with y = state.y + a }\n",
    "    | MoveTowards (East, a) -> { state with x = state.x + a }\n",
    "    | MoveTowards (South, a) -> { state with y = state.y - a }\n",
    "    | MoveTowards (West, a) -> { state with x = state.x - a }\n",
    "    | MoveForward a -> execute (MoveTowards (direction state.facing, a)) state\n",
    "    | Turn a -> {state with facing = ( (state.facing + a) % 360 )}\n",
    "\n",
    "let finalState = List.fold (fun state ins -> execute ins state) { x = 0 ; y = 0; facing = 90 } instructionList\n",
    "\n",
    "display finalState\n",
    "display (abs (finalState.x) + abs (finalState.y))"
   ],
   "outputs": [
    {
     "output_type": "execute_result",
     "data": {
      "text/html": "<table><thead><tr><th>x</th><th>y</th><th>facing</th></tr></thead><tbody><tr><td><div class=\"dni-plaintext\">-589</div></td><td><div class=\"dni-plaintext\">632</div></td><td><div class=\"dni-plaintext\">-270</div></td></tr></tbody></table>"
     },
     "execution_count": 1,
     "metadata": {}
    },
    {
     "output_type": "execute_result",
     "data": {
      "text/html": "<div class=\"dni-plaintext\">1221</div>"
     },
     "execution_count": 1,
     "metadata": {}
    }
   ]
  },
  {
   "cell_type": "markdown",
   "metadata": {},
   "source": [
    "```\n",
    "--- Part Two ---\n",
    "Before you can give the destination to the captain, you realize that the actual action meanings were printed on the back of the instructions the whole time.\n",
    "\n",
    "Almost all of the actions indicate how to move a waypoint which is relative to the ship's position:\n",
    "\n",
    "Action N means to move the waypoint north by the given value.\n",
    "Action S means to move the waypoint south by the given value.\n",
    "Action E means to move the waypoint east by the given value.\n",
    "Action W means to move the waypoint west by the given value.\n",
    "Action L means to rotate the waypoint around the ship left (counter-clockwise) the given number of degrees.\n",
    "Action R means to rotate the waypoint around the ship right (clockwise) the given number of degrees.\n",
    "Action F means to move forward to the waypoint a number of times equal to the given value.\n",
    "The waypoint starts 10 units east and 1 unit north relative to the ship. The waypoint is relative to the ship; that is, if the ship moves, the waypoint moves with it.\n",
    "\n",
    "For example, using the same instructions as above:\n",
    "\n",
    "F10 moves the ship to the waypoint 10 times (a total of 100 units east and 10 units north), leaving the ship at east 100, north 10. The waypoint stays 10 units east and 1 unit north of the ship.\n",
    "N3 moves the waypoint 3 units north to 10 units east and 4 units north of the ship. The ship remains at east 100, north 10.\n",
    "F7 moves the ship to the waypoint 7 times (a total of 70 units east and 28 units north), leaving the ship at east 170, north 38. The waypoint stays 10 units east and 4 units north of the ship.\n",
    "R90 rotates the waypoint around the ship clockwise 90 degrees, moving it to 4 units east and 10 units south of the ship. The ship remains at east 170, north 38.\n",
    "F11 moves the ship to the waypoint 11 times (a total of 44 units east and 110 units south), leaving the ship at east 214, south 72. The waypoint stays 4 units east and 10 units south of the ship.\n",
    "After these operations, the ship's Manhattan distance from its starting position is 214 + 72 = 286.\n",
    "\n",
    "Figure out where the navigation instructions actually lead. What is the Manhattan distance between that location and the ship's starting position?\n",
    "```\n",
    ""
   ]
  },
  {
   "cell_type": "code",
   "execution_count": 1,
   "metadata": {},
   "source": [
    "#!fsharp\n",
    "type State = { shipCoord: int * int ; wpCoord : int * int }\n",
    "\n",
    "\n",
    "let rec rotateCoordinates (c: int * int) (rotation: int) =\n",
    "    let rotate90 (x, y) = (-y, x)\n",
    "    let rotate180 (x, y) = (-x, -y)\n",
    "    let rotate270 (x, y) = (y, -x)\n",
    "\n",
    "    match (rotation) with\n",
    "    | x when x < 0 -> rotateCoordinates c (rotation + 360)\n",
    "    | 0 -> c\n",
    "    | 90 -> rotate90 c\n",
    "    | 180 -> rotate180 c\n",
    "    | 270 -> rotate270 c\n",
    "    | x -> failwith $\"Unknown rotation of {rotation}\"\n",
    "\n",
    "let execute2 (instruction: Instruction) (state: State) =\n",
    "    let (shipX, shipY) = state.shipCoord\n",
    "    let (wpX, wpY) = state.wpCoord\n",
    "    match instruction with\n",
    "    | MoveTowards (North, a) -> { state with wpCoord = (wpX, wpY + a) }\n",
    "    | MoveTowards (East, a) -> { state with wpCoord = (wpX + a, wpY) }\n",
    "    | MoveTowards (South, a) -> { state with wpCoord = (wpX, wpY - a) }\n",
    "    | MoveTowards (West, a) -> { state with wpCoord = (wpX - a, wpY) }\n",
    "    | MoveForward a -> {state with shipCoord = (shipX + (wpX * a), shipY + (wpY * a))}\n",
    "    | Turn a -> {state with wpCoord = rotateCoordinates state.wpCoord (-a) }\n",
    "\n",
    "let finalState2 = List.fold (fun state ins -> execute2 ins state) { shipCoord = (0, 0); wpCoord = (10, 1)} instructionList\n",
    "\n",
    "\n",
    "display finalState2\n",
    "display (abs (finalState2.shipCoord |> fst) + abs (finalState2.shipCoord |> snd))"
   ],
   "outputs": [
    {
     "output_type": "execute_result",
     "data": {
      "text/html": "<table><thead><tr><th>shipCoord</th><th>wpCoord</th></tr></thead><tbody><tr><td><div class=\"dni-plaintext\">( -32313, 27122 )</div></td><td><div class=\"dni-plaintext\">( 50, -28 )</div></td></tr></tbody></table>"
     },
     "execution_count": 1,
     "metadata": {}
    },
    {
     "output_type": "execute_result",
     "data": {
      "text/html": "<div class=\"dni-plaintext\">59435</div>"
     },
     "execution_count": 1,
     "metadata": {}
    }
   ]
  }
 ],
 "metadata": {
  "kernelspec": {
   "display_name": ".NET (C#)",
   "language": "C#",
   "name": ".net-csharp"
  },
  "language_info": {
   "file_extension": ".cs",
   "mimetype": "text/x-csharp",
   "name": "C#",
   "pygments_lexer": "csharp",
   "version": "8.0"
  }
 },
 "nbformat": 4,
 "nbformat_minor": 4
}