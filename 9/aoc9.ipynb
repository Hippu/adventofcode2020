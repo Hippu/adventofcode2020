{
 "cells": [
  {
   "cell_type": "markdown",
   "metadata": {},
   "source": [
    "```\n",
    "--- Day 9: Encoding Error ---\n",
    "With your neighbor happily enjoying their video game, you turn your attention to an open data port on the little screen in the seat in front of you.\n",
    "\n",
    "Though the port is non-standard, you manage to connect it to your computer through the clever use of several paperclips. Upon connection, the port outputs a series of numbers (your puzzle input).\n",
    "\n",
    "The data appears to be encrypted with the eXchange-Masking Addition System (XMAS) which, conveniently for you, is an old cypher with an important weakness.\n",
    "\n",
    "XMAS starts by transmitting a preamble of 25 numbers. After that, each number you receive should be the sum of any two of the 25 immediately previous numbers. The two numbers will have different values, and there might be more than one such pair.\n",
    "\n",
    "For example, suppose your preamble consists of the numbers 1 through 25 in a random order. To be valid, the next number must be the sum of two of those numbers:\n",
    "\n",
    "26 would be a valid next number, as it could be 1 plus 25 (or many other pairs, like 2 and 24).\n",
    "49 would be a valid next number, as it is the sum of 24 and 25.\n",
    "100 would not be valid; no two of the previous 25 numbers sum to 100.\n",
    "50 would also not be valid; although 25 appears in the previous 25 numbers, the two numbers in the pair must be different.\n",
    "Suppose the 26th number is 45, and the first number (no longer an option, as it is more than 25 numbers ago) was 20. Now, for the next number to be valid, there needs to be some pair of numbers among 1-19, 21-25, or 45 that add up to it:\n",
    "\n",
    "26 would still be a valid next number, as 1 and 25 are still within the previous 25 numbers.\n",
    "65 would not be valid, as no two of the available numbers sum to it.\n",
    "64 and 66 would both be valid, as they are the result of 19+45 and 21+45 respectively.\n",
    "Here is a larger example which only considers the previous 5 numbers (and has a preamble of length 5):\n",
    "\n",
    "35\n",
    "20\n",
    "15\n",
    "25\n",
    "47\n",
    "40\n",
    "62\n",
    "55\n",
    "65\n",
    "95\n",
    "102\n",
    "117\n",
    "150\n",
    "182\n",
    "127\n",
    "219\n",
    "299\n",
    "277\n",
    "309\n",
    "576\n",
    "In this example, after the 5-number preamble, almost every number is the sum of two of the previous 5 numbers; the only number that does not follow this rule is 127.\n",
    "\n",
    "The first step of attacking the weakness in the XMAS data is to find the first number in the list (after the preamble) which is not the sum of two of the 25 numbers before it. What is the first number that does not have this property?\n",
    "```"
   ]
  },
  {
   "cell_type": "code",
   "execution_count": 1,
   "metadata": {},
   "source": [
    "#!fsharp\n",
    "let input = System.IO.File.ReadAllLines \"./input.txt\" |> Array.map int64\n",
    "\n",
    "let previous25 index =\n",
    "    if index < 25 || index > Array.length input then\n",
    "        None\n",
    "    else\n",
    "        Some (Array.sub input (index - 25) 25)\n",
    "\n",
    "previous25 25\n",
    "\n",
    "let isValid index =\n",
    "    match previous25 index with\n",
    "    | Some previous -> \n",
    "        Array.contains \n",
    "            (Array.get input index) \n",
    "            [| for x in previous do for y in (Array.filter ((<>) x) previous) -> x + y |]\n",
    "    | None -> false\n",
    "\n",
    "Array.mapi (fun ix x -> isValid ix, x) input |> Array.filter (fun (valid, _) -> not valid) |> Array.rev"
   ],
   "outputs": [
    {
     "output_type": "execute_result",
     "data": {
      "text/html": "<table><thead><tr><th><i>index</i></th><th>Item1</th><th>Item2</th></tr></thead><tbody><tr><td>0</td><td><div class=\"dni-plaintext\">False</div></td><td><div class=\"dni-plaintext\">466456641</div></td></tr><tr><td>1</td><td><div class=\"dni-plaintext\">False</div></td><td><div class=\"dni-plaintext\">34</div></td></tr><tr><td>2</td><td><div class=\"dni-plaintext\">False</div></td><td><div class=\"dni-plaintext\">6</div></td></tr><tr><td>3</td><td><div class=\"dni-plaintext\">False</div></td><td><div class=\"dni-plaintext\">35</div></td></tr><tr><td>4</td><td><div class=\"dni-plaintext\">False</div></td><td><div class=\"dni-plaintext\">42</div></td></tr><tr><td>5</td><td><div class=\"dni-plaintext\">False</div></td><td><div class=\"dni-plaintext\">10</div></td></tr><tr><td>6</td><td><div class=\"dni-plaintext\">False</div></td><td><div class=\"dni-plaintext\">11</div></td></tr><tr><td>7</td><td><div class=\"dni-plaintext\">False</div></td><td><div class=\"dni-plaintext\">28</div></td></tr><tr><td>8</td><td><div class=\"dni-plaintext\">False</div></td><td><div class=\"dni-plaintext\">47</div></td></tr><tr><td>9</td><td><div class=\"dni-plaintext\">False</div></td><td><div class=\"dni-plaintext\">18</div></td></tr><tr><td>10</td><td><div class=\"dni-plaintext\">False</div></td><td><div class=\"dni-plaintext\">23</div></td></tr><tr><td>11</td><td><div class=\"dni-plaintext\">False</div></td><td><div class=\"dni-plaintext\">4</div></td></tr><tr><td>12</td><td><div class=\"dni-plaintext\">False</div></td><td><div class=\"dni-plaintext\">48</div></td></tr><tr><td>13</td><td><div class=\"dni-plaintext\">False</div></td><td><div class=\"dni-plaintext\">43</div></td></tr><tr><td>14</td><td><div class=\"dni-plaintext\">False</div></td><td><div class=\"dni-plaintext\">22</div></td></tr><tr><td>15</td><td><div class=\"dni-plaintext\">False</div></td><td><div class=\"dni-plaintext\">5</div></td></tr><tr><td>16</td><td><div class=\"dni-plaintext\">False</div></td><td><div class=\"dni-plaintext\">25</div></td></tr><tr><td>17</td><td><div class=\"dni-plaintext\">False</div></td><td><div class=\"dni-plaintext\">37</div></td></tr><tr><td>18</td><td><div class=\"dni-plaintext\">False</div></td><td><div class=\"dni-plaintext\">40</div></td></tr><tr><td>19</td><td><div class=\"dni-plaintext\">False</div></td><td><div class=\"dni-plaintext\">45</div></td></tr><tr><td colspan=\"3\">(6 more)</td></tr></tbody></table>"
     },
     "execution_count": 1,
     "metadata": {}
    }
   ]
  },
  {
   "cell_type": "markdown",
   "metadata": {},
   "source": [
    "```\n",
    "--- Part Two ---\n",
    "The final step in breaking the XMAS encryption relies on the invalid number you just found: you must find a contiguous set of at least two numbers in your list which sum to the invalid number from step 1.\n",
    "\n",
    "Again consider the above example:\n",
    "\n",
    "35\n",
    "20\n",
    "15\n",
    "25\n",
    "47\n",
    "40\n",
    "62\n",
    "55\n",
    "65\n",
    "95\n",
    "102\n",
    "117\n",
    "150\n",
    "182\n",
    "127\n",
    "219\n",
    "299\n",
    "277\n",
    "309\n",
    "576\n",
    "In this list, adding up all of the numbers from 15 through 40 produces the invalid number from step 1, 127. (Of course, the contiguous set of numbers in your actual list might be much longer.)\n",
    "\n",
    "To find the encryption weakness, add together the smallest and largest number in this contiguous range; in this example, these are 15 and 47, producing 62.\n",
    "\n",
    "What is the encryption weakness in your XMAS-encrypted list of numbers?\n",
    "```"
   ]
  },
  {
   "cell_type": "code",
   "execution_count": 1,
   "metadata": {},
   "source": [
    "#!fsharp\n",
    "let rec findContiguosSetWithSum (index: int) (count: int) =\n",
    "    match Array.sum (Array.sub input index count) with\n",
    "    | sum when sum < 466456641L -> findContiguosSetWithSum index (count + 1)\n",
    "    | sum when sum = 466456641L -> Array.sub input index count\n",
    "    | sum -> findContiguosSetWithSum (index + 1) 2\n",
    "\n",
    "findContiguosSetWithSum 0 2 |> fun arr -> Array.min arr + Array.max arr"
   ],
   "outputs": [
    {
     "output_type": "execute_result",
     "data": {
      "text/html": "<div class=\"dni-plaintext\">55732936</div>"
     },
     "execution_count": 1,
     "metadata": {}
    }
   ]
  }
 ],
 "metadata": {
  "kernelspec": {
   "display_name": ".NET (C#)",
   "language": "C#",
   "name": ".net-csharp"
  },
  "language_info": {
   "file_extension": ".cs",
   "mimetype": "text/x-csharp",
   "name": "C#",
   "pygments_lexer": "csharp",
   "version": "8.0"
  }
 },
 "nbformat": 4,
 "nbformat_minor": 4
}