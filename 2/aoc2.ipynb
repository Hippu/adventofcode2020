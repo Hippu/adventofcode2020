{
 "cells": [
  {
   "cell_type": "markdown",
   "metadata": {},
   "source": [
    "--- Day 2: Password Philosophy ---\n",
    "Your flight departs in a few days from the coastal airport; the easiest way down to the coast from here is via toboggan.\n",
    "\n",
    "The shopkeeper at the North Pole Toboggan Rental Shop is having a bad day. \"Something's wrong with our computers; we can't log in!\" You ask if you can take a look.\n",
    "\n",
    "Their password database seems to be a little corrupted: some of the passwords wouldn't have been allowed by the Official Toboggan Corporate Policy that was in effect when they were chosen.\n",
    "\n",
    "To try to debug the problem, they have created a list (your puzzle input) of passwords (according to the corrupted database) and the corporate policy when that password was set.\n",
    "\n",
    "For example, suppose you have the following list:\n",
    "\n",
    "1-3 a: abcde\n",
    "1-3 b: cdefg\n",
    "2-9 c: ccccccccc\n",
    "Each line gives the password policy and then the password. The password policy indicates the lowest and highest number of times a given letter must appear for the password to be valid. For example, 1-3 a means that the password must contain a at least 1 time and at most 3 times.\n",
    "\n",
    "In the above example, 2 passwords are valid. The middle password, cdefg, is not; it contains no instances of b, but needs at least 1. The first and third passwords are valid: they contain one a or nine c, both within the limits of their respective policies.\n",
    "\n",
    "How many passwords are valid according to their policies?"
   ]
  },
  {
   "cell_type": "code",
   "execution_count": 1,
   "metadata": {},
   "source": [
    "#!fsharp\n",
    "#r \"nuget: FParsec\"\n",
    "open FParsec\n",
    "\n",
    "let input = System.IO.File.ReadAllLines \"./input.txt\""
   ],
   "outputs": []
  },
  {
   "cell_type": "code",
   "execution_count": 1,
   "metadata": {},
   "source": [
    "#!fsharp\n",
    "type ValidationRule = { MinCount : int; MaxCount : int; Letter : char }\n",
    "\n",
    "type Password = string\n",
    "\n",
    "let validationRule minCount maxCount letter = { MinCount = minCount ; MaxCount = maxCount ; Letter = letter}\n",
    "\n",
    "let ruleParser : Parser<ValidationRule, unit> = \n",
    "    pipe3 \n",
    "        (pint32) \n",
    "        ((pchar '-') >>. pint32) \n",
    "        (spaces >>. asciiLower) \n",
    "        validationRule\n",
    "\n",
    "let passwordParser : Parser<Password, unit> = restOfLine false\n",
    "\n",
    "let inputParser : Parser<(ValidationRule * Password), unit> =\n",
    "    pipe2\n",
    "        (ruleParser .>> pchar ':' .>> spaces)\n",
    "        passwordParser\n",
    "        (fun a b -> (a, b))\n",
    "\n",
    "let passwordIsValid (rule: ValidationRule) (password: Password) : bool =\n",
    "    String.filter (fun c -> c = rule.Letter) password\n",
    "    |> String.length\n",
    "    |> fun x -> rule.MinCount <= x && x <= rule.MaxCount\n",
    "\n",
    "let ruleAndPassword = \n",
    "    List.ofArray input \n",
    "    |> List.map (run inputParser)\n",
    "    |> List.map (\n",
    "        function\n",
    "        | Success (r, _, _) -> r\n",
    "        | _ -> failwith \"Error parsing input\" \n",
    "        )\n",
    "\n",
    "List.where (fun (rule, password) -> passwordIsValid rule password ) ruleAndPassword |> List.length"
   ],
   "outputs": [
    {
     "output_type": "execute_result",
     "data": {
      "text/html": "<div class=\"dni-plaintext\">638</div>"
     },
     "execution_count": 1,
     "metadata": {}
    }
   ]
  },
  {
   "cell_type": "markdown",
   "metadata": {},
   "source": [
    "--- Part Two ---\n",
    "While it appears you validated the passwords correctly, they don't seem to be what the Official Toboggan Corporate Authentication System is expecting.\n",
    "\n",
    "The shopkeeper suddenly realizes that he just accidentally explained the password policy rules from his old job at the sled rental place down the street! The Official Toboggan Corporate Policy actually works a little differently.\n",
    "\n",
    "Each policy actually describes two positions in the password, where 1 means the first character, 2 means the second character, and so on. (Be careful; Toboggan Corporate Policies have no concept of \"index zero\"!) Exactly one of these positions must contain the given letter. Other occurrences of the letter are irrelevant for the purposes of policy enforcement.\n",
    "\n",
    "Given the same example list from above:\n",
    "\n",
    "1-3 a: abcde is valid: position 1 contains a and position 3 does not.\n",
    "1-3 b: cdefg is invalid: neither position 1 nor position 3 contains b.\n",
    "2-9 c: ccccccccc is invalid: both position 2 and position 9 contain c.\n",
    "How many passwords are valid according to the new interpretation of the policies?"
   ]
  },
  {
   "cell_type": "code",
   "execution_count": 1,
   "metadata": {},
   "source": [
    "#!fsharp\n",
    "let passwordIsValidActually (rule: ValidationRule) (password: Password) : bool =\n",
    "    (Seq.tryItem (rule.MinCount - 1) password, Seq.tryItem (rule.MaxCount - 1) password )\n",
    "    |> fun (a, b) -> \n",
    "    match ( Option.map ((=) rule.Letter) a, Option.map ((=) rule.Letter) b) with\n",
    "    | (Option.Some true, Option.Some false) -> true\n",
    "    | (Option.Some false, Option.Some true) -> true\n",
    "    | _ -> false\n",
    "\n",
    "List.where (fun (rule, password) -> passwordIsValidActually rule password ) ruleAndPassword |> List.length"
   ],
   "outputs": [
    {
     "output_type": "execute_result",
     "data": {
      "text/html": "<div class=\"dni-plaintext\">699</div>"
     },
     "execution_count": 1,
     "metadata": {}
    }
   ]
  }
 ],
 "metadata": {
  "kernelspec": {
   "display_name": ".NET (C#)",
   "language": "C#",
   "name": ".net-csharp"
  },
  "language_info": {
   "file_extension": ".cs",
   "mimetype": "text/x-csharp",
   "name": "C#",
   "pygments_lexer": "csharp",
   "version": "8.0"
  }
 },
 "nbformat": 4,
 "nbformat_minor": 4
}