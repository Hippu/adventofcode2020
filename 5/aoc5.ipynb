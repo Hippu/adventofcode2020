{
 "cells": [
  {
   "cell_type": "markdown",
   "metadata": {},
   "source": [
    "--- Day 5: Binary Boarding ---\n",
    "You board your plane only to discover a new problem: you dropped your boarding pass! You aren't sure which seat is yours, and all of the flight attendants are busy with the flood of people that suddenly made it through passport control.\n",
    "\n",
    "You write a quick program to use your phone's camera to scan all of the nearby boarding passes (your puzzle input); perhaps you can find your seat through process of elimination.\n",
    "\n",
    "Instead of zones or groups, this airline uses binary space partitioning to seat people. A seat might be specified like FBFBBFFRLR, where F means \"front\", B means \"back\", L means \"left\", and R means \"right\".\n",
    "\n",
    "The first 7 characters will either be F or B; these specify exactly one of the 128 rows on the plane (numbered 0 through 127). Each letter tells you which half of a region the given seat is in. Start with the whole list of rows; the first letter indicates whether the seat is in the front (0 through 63) or the back (64 through 127). The next letter indicates which half of that region the seat is in, and so on until you're left with exactly one row.\n",
    "\n",
    "For example, consider just the first seven characters of FBFBBFFRLR:\n",
    "\n",
    "Start by considering the whole range, rows 0 through 127.\n",
    "F means to take the lower half, keeping rows 0 through 63.\n",
    "B means to take the upper half, keeping rows 32 through 63.\n",
    "F means to take the lower half, keeping rows 32 through 47.\n",
    "B means to take the upper half, keeping rows 40 through 47.\n",
    "B keeps rows 44 through 47.\n",
    "F keeps rows 44 through 45.\n",
    "The final F keeps the lower of the two, row 44.\n",
    "The last three characters will be either L or R; these specify exactly one of the 8 columns of seats on the plane (numbered 0 through 7). The same process as above proceeds again, this time with only three steps. L means to keep the lower half, while R means to keep the upper half.\n",
    "\n",
    "For example, consider just the last 3 characters of FBFBBFFRLR:\n",
    "\n",
    "Start by considering the whole range, columns 0 through 7.\n",
    "R means to take the upper half, keeping columns 4 through 7.\n",
    "L means to take the lower half, keeping columns 4 through 5.\n",
    "The final R keeps the upper of the two, column 5.\n",
    "So, decoding FBFBBFFRLR reveals that it is the seat at row 44, column 5.\n",
    "\n",
    "Every seat also has a unique seat ID: multiply the row by 8, then add the column. In this example, the seat has ID 44 * 8 + 5 = 357.\n",
    "\n",
    "Here are some other boarding passes:\n",
    "\n",
    "BFFFBBFRRR: row 70, column 7, seat ID 567.\n",
    "FFFBBBFRRR: row 14, column 7, seat ID 119.\n",
    "BBFFBBFRLL: row 102, column 4, seat ID 820.\n",
    "As a sanity check, look through your list of boarding passes. What is the highest seat ID on a boarding pass?"
   ]
  },
  {
   "cell_type": "code",
   "execution_count": 1,
   "metadata": {},
   "source": [
    "#!fsharp\n",
    "let inputLines = System.IO.File.ReadAllLines \"./input.txt\"\n",
    "\n",
    "let rowsAndColumnLetters =\n",
    "    Array.map Seq.toArray inputLines\n",
    "    |> Array.map (fun a -> (Array.sub a 0 7, Array.sub a 7 3))\n",
    "\n",
    "\n",
    "let rowLetterToBit = function\n",
    "    | 'F' -> 0b0\n",
    "    | 'B' -> 0b1\n",
    "    | _ -> failwith \"Unknown input when parsing row letter\"\n",
    "\n",
    "let columnLetterToBit = function\n",
    "    | 'L' -> 0b0\n",
    "    | 'R' -> 0b1\n",
    "    | _ -> failwith \"Unknown input when parsing column letter\"\n",
    "\n",
    "let rowToInt (charArray: char array) =\n",
    "    Array.rev charArray\n",
    "    |> Array.map rowLetterToBit\n",
    "    |> Array.mapi (fun idx bit -> bit <<< idx)\n",
    "    |> Array.sum\n",
    "\n",
    "let columnToInt (charArray: char array) =\n",
    "    Array.rev charArray\n",
    "    |> Array.map columnLetterToBit\n",
    "    |> Array.mapi (fun idx bit -> bit <<< idx)\n",
    "    |> Array.sum\n",
    "\n",
    "let rowAndColumnIndexes =\n",
    "    Array.map (fun (row, column) -> (rowToInt row, columnToInt column)) rowsAndColumnLetters\n",
    "\n",
    "let seatID (row, col) =\n",
    "    row * 8 + col\n",
    "\n",
    "Array.map seatID rowAndColumnIndexes\n",
    "|> Array.max"
   ],
   "outputs": [
    {
     "output_type": "execute_result",
     "data": {
      "text/html": "<div class=\"dni-plaintext\">871</div>"
     },
     "execution_count": 1,
     "metadata": {}
    }
   ]
  },
  {
   "cell_type": "markdown",
   "metadata": {},
   "source": [
    "--- Part Two ---\n",
    "Ding! The \"fasten seat belt\" signs have turned on. Time to find your seat.\n",
    "\n",
    "It's a completely full flight, so your seat should be the only missing boarding pass in your list. However, there's a catch: some of the seats at the very front and back of the plane don't exist on this aircraft, so they'll be missing from your list as well.\n",
    "\n",
    "Your seat wasn't at the very front or back, though; the seats with IDs +1 and -1 from yours will be in your list.\n",
    "\n",
    "What is the ID of your seat?"
   ]
  },
  {
   "cell_type": "code",
   "execution_count": 1,
   "metadata": {},
   "source": [
    "#!fsharp\n",
    "let allSeats = Set.ofList [for row in 0 .. 127 do for col in 0 .. 7 do yield (row, col)]\n",
    "let seatsInBoardingPasses = Set.ofArray rowAndColumnIndexes\n",
    "\n",
    "let notInBackOrFront (set: Set<(int * int)>) = Set.filter (fun (row, _) -> row > 10 && row < 100) set\n",
    "\n",
    "let missingSeats = Set.difference (notInBackOrFront allSeats) (notInBackOrFront seatsInBoardingPasses)\n",
    "\n",
    "Set.map seatID missingSeats"
   ],
   "outputs": [
    {
     "output_type": "execute_result",
     "data": {
      "text/html": "<table><thead><tr><th><i>index</i></th><th>value</th></tr></thead><tbody><tr><td>0</td><td><div class=\"dni-plaintext\">640</div></td></tr></tbody></table>"
     },
     "execution_count": 1,
     "metadata": {}
    }
   ]
  }
 ],
 "metadata": {
  "kernelspec": {
   "display_name": ".NET (C#)",
   "language": "C#",
   "name": ".net-csharp"
  },
  "language_info": {
   "file_extension": ".cs",
   "mimetype": "text/x-csharp",
   "name": "C#",
   "pygments_lexer": "csharp",
   "version": "8.0"
  }
 },
 "nbformat": 4,
 "nbformat_minor": 4
}